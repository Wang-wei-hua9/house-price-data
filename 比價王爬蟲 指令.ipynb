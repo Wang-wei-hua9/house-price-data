{
 "cells": [
  {
   "cell_type": "code",
   "execution_count": 2,
   "metadata": {},
   "outputs": [
    {
     "name": "stderr",
     "output_type": "stream",
     "text": [
      "100%|██████████| 2/2 [00:00<00:00,  2.62it/s]\n"
     ]
    }
   ],
   "source": [
    "# %%\n",
    "import pandas as pd\n",
    "import time\n",
    "from tqdm import tqdm\n",
    "\n",
    "# 比價王網址\n",
    "#新北市\n",
    "#url = 'https://price.houseprice.tw/list/%E6%96%B0%E5%8C%97%E5%B8%82_city/'\n",
    "\n",
    "#台北市\n",
    "#url = 'https://price.houseprice.tw/list/%E5%8F%B0%E5%8C%97%E5%B8%82_city/'\n",
    "\n",
    "\n",
    "'''\n",
    "比價王換頁時是靠修改'?p='後的數字來取得不同頁面的資料\n",
    "所以不需要使用selenium，以靜態爬蟲的方式處理即可\n",
    "'''\n",
    "\n",
    "\n",
    "def cralwer(page):\n",
    "    html = url + str(page)\n",
    "    page_data = pd.read_html(html, encoding='utf-8')[0]\n",
    "    # pandas可以直接讀取html格式中的<table>標籤，無需使用Beautifulsoup解析\n",
    "    return page_data\n",
    "\n",
    "\n",
    "all_data = pd.DataFrame()   # 建立空白的資料表，再循環加入每一頁的資料\n",
    "\n",
    "for p in tqdm(range(1, 3)):\n",
    "    # range是頁面範圍，請自行修改頁面範圍，程式中斷時也可從修改頁面從中斷的頁面開始\n",
    "    all_data = all_data.append(cralwer(p), ignore_index=True)\n",
    "\n",
    "# %%\n",
    "# 清除格式錯誤的資料\n",
    "# 根據觀察，格式錯誤的資料行中，建坪欄位都不包含'坪'這個字符，所以以此為篩選條件\n",
    "mask = all_data['建坪'].str.contains('坪')\n",
    "all_data = all_data.loc[mask]\n",
    "\n",
    "# 輸出\n",
    "all_data.to_excel('all_data.xlsx')"
   ]
  },
  {
   "cell_type": "code",
   "execution_count": null,
   "metadata": {},
   "outputs": [],
   "source": []
  }
 ],
 "metadata": {
  "kernelspec": {
   "display_name": "Python 3",
   "language": "python",
   "name": "python3"
  },
  "language_info": {
   "codemirror_mode": {
    "name": "ipython",
    "version": 3
   },
   "file_extension": ".py",
   "mimetype": "text/x-python",
   "name": "python",
   "nbconvert_exporter": "python",
   "pygments_lexer": "ipython3",
   "version": "3.7.4"
  }
 },
 "nbformat": 4,
 "nbformat_minor": 2
}
